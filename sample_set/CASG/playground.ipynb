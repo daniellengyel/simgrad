{
 "cells": [
  {
   "cell_type": "code",
   "execution_count": 2,
   "id": "7f95a2b3",
   "metadata": {},
   "outputs": [
    {
     "ename": "FileNotFoundError",
     "evalue": "[Errno 2] No such file or directory: '/Users/daniellengyel/Projects/grad_est'",
     "output_type": "error",
     "traceback": [
      "\u001b[31m---------------------------------------------------------------------------\u001b[39m",
      "\u001b[31mFileNotFoundError\u001b[39m                         Traceback (most recent call last)",
      "\u001b[36mCell\u001b[39m\u001b[36m \u001b[39m\u001b[32mIn[2]\u001b[39m\u001b[32m, line 2\u001b[39m\n\u001b[32m      1\u001b[39m \u001b[38;5;28;01mimport\u001b[39;00m\u001b[38;5;250m \u001b[39m\u001b[34;01mos\u001b[39;00m \n\u001b[32m----> \u001b[39m\u001b[32m2\u001b[39m os.chdir(\u001b[33m\"\u001b[39m\u001b[33m/Users/daniellengyel/Projects/grad_est\u001b[39m\u001b[33m\"\u001b[39m)\n\u001b[32m      4\u001b[39m \u001b[38;5;28;01mimport\u001b[39;00m\u001b[38;5;250m \u001b[39m\u001b[34;01mnumpy\u001b[39;00m\u001b[38;5;250m \u001b[39m\u001b[38;5;28;01mas\u001b[39;00m\u001b[38;5;250m \u001b[39m\u001b[34;01mnp\u001b[39;00m\n\u001b[32m      5\u001b[39m \u001b[38;5;28;01mimport\u001b[39;00m\u001b[38;5;250m \u001b[39m\u001b[34;01msample_set\u001b[39;00m\u001b[34;01m.\u001b[39;00m\u001b[34;01mCASG\u001b[39;00m\u001b[34;01m.\u001b[39;00m\u001b[34;01mCASG\u001b[39;00m\u001b[38;5;250m \u001b[39m\u001b[38;5;28;01mas\u001b[39;00m\u001b[38;5;250m \u001b[39m\u001b[34;01mCASG\u001b[39;00m\n",
      "\u001b[31mFileNotFoundError\u001b[39m: [Errno 2] No such file or directory: '/Users/daniellengyel/Projects/grad_est'"
     ]
    }
   ],
   "source": [
    "import os \n",
    "os.chdir(\"/Users/daniellengyel/Projects/grad_est\")\n",
    "\n",
    "import numpy as np\n",
    "import sample_set.CASG.CASG as CASG\n",
    "import sample_set.CASG.eCASG as eCASG\n",
    "from sample_set.CASG.utils import loss_S\n",
    "\n",
    "from sample_set.CASG.gen_sing_vals.gen_sing_vals import solve_sing_vals_exact\n",
    "from sample_set.CASG.gen_sing_vals.utils import lmbda_loss, lmbda_loss_proxy\n",
    "\n",
    "%load_ext autoreload\n",
    "%autoreload 2"
   ]
  },
  {
   "cell_type": "code",
   "execution_count": 3,
   "id": "12b7d26d",
   "metadata": {},
   "outputs": [
    {
     "ename": "NameError",
     "evalue": "name 'np' is not defined",
     "output_type": "error",
     "traceback": [
      "\u001b[31m---------------------------------------------------------------------------\u001b[39m",
      "\u001b[31mNameError\u001b[39m                                 Traceback (most recent call last)",
      "\u001b[36mCell\u001b[39m\u001b[36m \u001b[39m\u001b[32mIn[3]\u001b[39m\u001b[32m, line 2\u001b[39m\n\u001b[32m      1\u001b[39m d = \u001b[32m8\u001b[39m\n\u001b[32m----> \u001b[39m\u001b[32m2\u001b[39m H = np.random.normal(size=(d, d))\n\u001b[32m      3\u001b[39m H = (H.T + H)/\u001b[32m2.\u001b[39m\n\u001b[32m      5\u001b[39m sig = \u001b[32m0.1\u001b[39m\n",
      "\u001b[31mNameError\u001b[39m: name 'np' is not defined"
     ]
    }
   ],
   "source": [
    "d = 8\n",
    "H = np.random.normal(size=(d, d))\n",
    "H = (H.T + H)/2.\n",
    "\n",
    "sig = 0.1\n",
    "h = 1\n",
    "\n",
    "S = CASG.gen_sample_set(H, sig, h)\n",
    "loss_S(S, H, sig, h)"
   ]
  },
  {
   "cell_type": "code",
   "execution_count": 1,
   "id": "63da36aa",
   "metadata": {},
   "outputs": [
    {
     "ename": "NameError",
     "evalue": "name 'CASG' is not defined",
     "output_type": "error",
     "traceback": [
      "\u001b[31m---------------------------------------------------------------------------\u001b[39m",
      "\u001b[31mNameError\u001b[39m                                 Traceback (most recent call last)",
      "\u001b[36mCell\u001b[39m\u001b[36m \u001b[39m\u001b[32mIn[1]\u001b[39m\u001b[32m, line 1\u001b[39m\n\u001b[32m----> \u001b[39m\u001b[32m1\u001b[39m S = CASG.gen_sample_set(H, sig, h)\n\u001b[32m      2\u001b[39m loss_S(S, H, sig, h)\n",
      "\u001b[31mNameError\u001b[39m: name 'CASG' is not defined"
     ]
    }
   ],
   "source": [
    "S = CASG.gen_sample_set(H, sig, h)\n",
    "loss_S(S, H, sig, h)"
   ]
  },
  {
   "cell_type": "code",
   "execution_count": null,
   "id": "0af95422",
   "metadata": {},
   "outputs": [
    {
     "data": {
      "text/plain": [
       "np.float64(0.16346797878842884)"
      ]
     },
     "execution_count": 108,
     "metadata": {},
     "output_type": "execute_result"
    }
   ],
   "source": [
    "D = np.linalg.eigh(H)[0]\n",
    "sing_vals = solve_sing_vals_exact(D, sig, h)\n",
    "\n",
    "lmbda_loss(sing_vals**2, D, sig)"
   ]
  },
  {
   "cell_type": "code",
   "execution_count": 123,
   "id": "14683ab3",
   "metadata": {},
   "outputs": [
    {
     "ename": "AssertionError",
     "evalue": "",
     "output_type": "error",
     "traceback": [
      "\u001b[31m---------------------------------------------------------------------------\u001b[39m",
      "\u001b[31mAssertionError\u001b[39m                            Traceback (most recent call last)",
      "\u001b[36mCell\u001b[39m\u001b[36m \u001b[39m\u001b[32mIn[123]\u001b[39m\u001b[32m, line 4\u001b[39m\n\u001b[32m      1\u001b[39m sig = \u001b[32m0.1\u001b[39m\n\u001b[32m      2\u001b[39m h = \u001b[32m1\u001b[39m\n\u001b[32m----> \u001b[39m\u001b[32m4\u001b[39m S = CASG.gen_sample_set(H, sig, h)\n\u001b[32m      5\u001b[39m loss_S(S, H, sig, h)\n",
      "\u001b[36mFile \u001b[39m\u001b[32m<string>:4\u001b[39m, in \u001b[36mgen_sample_set\u001b[39m\u001b[34m(H, sig, h, min_length)\u001b[39m\n",
      "\u001b[36mFile \u001b[39m\u001b[32m~/Projects/grad_est/sample_set/CASG/hadamard/io.py:5\u001b[39m, in \u001b[36mload_hadamard\u001b[39m\u001b[34m(d)\u001b[39m\n\u001b[32m      4\u001b[39m \u001b[38;5;28;01mdef\u001b[39;00m\u001b[38;5;250m \u001b[39m\u001b[34mload_hadamard\u001b[39m(d):\n\u001b[32m----> \u001b[39m\u001b[32m5\u001b[39m     \u001b[38;5;28;01massert\u001b[39;00m (d <= \u001b[32m2\u001b[39m \u001b[38;5;129;01mor\u001b[39;00m d % \u001b[32m4\u001b[39m == \u001b[32m0\u001b[39m) \u001b[38;5;129;01mand\u001b[39;00m (d <= \u001b[32m246\u001b[39m)\n\u001b[32m      6\u001b[39m     base_dir = os.path.dirname(\u001b[34m__file__\u001b[39m)  \u001b[38;5;66;03m# directory of the current script\u001b[39;00m\n\u001b[32m      7\u001b[39m     filepath = os.path.join(base_dir, \u001b[33m'\u001b[39m\u001b[33mdata\u001b[39m\u001b[33m'\u001b[39m, \u001b[33mf\u001b[39m\u001b[33m'\u001b[39m\u001b[33mhad_\u001b[39m\u001b[38;5;132;01m{\u001b[39;00md\u001b[38;5;132;01m}\u001b[39;00m\u001b[33m.pkl\u001b[39m\u001b[33m'\u001b[39m)\n",
      "\u001b[31mAssertionError\u001b[39m: "
     ]
    }
   ],
   "source": [
    "sig = 0.1\n",
    "h = 1\n",
    "\n",
    "S = CASG.gen_sample_set(H, sig, h)\n",
    "loss_S(S, H, sig, h)"
   ]
  },
  {
   "cell_type": "code",
   "execution_count": 168,
   "id": "3df5a7eb",
   "metadata": {},
   "outputs": [],
   "source": [
    "d = 15\n",
    "H = np.random.normal(size=(d, d))\n",
    "H = (H.T + H)/2."
   ]
  },
  {
   "cell_type": "code",
   "execution_count": 182,
   "id": "e4b402ea",
   "metadata": {},
   "outputs": [
    {
     "name": "stdout",
     "output_type": "stream",
     "text": [
      "[6, 8]\n",
      "[7]\n",
      "[[ 0.25583587  0.25583587 -0.25583587 -0.25583587  0.25583587 -0.25583587\n",
      "   0.25583587  0.25583587  0.25583587 -0.25583587 -0.25583587 -0.25583587]\n",
      " [ 0.25878387 -0.25878387  0.25878387 -0.25878387  0.25878387  0.25878387\n",
      "   0.25878387 -0.25878387 -0.25878387 -0.25878387  0.25878387 -0.25878387]\n",
      " [ 0.27296464 -0.27296464 -0.27296464  0.27296464 -0.27296464  0.27296464\n",
      "   0.27296464  0.27296464 -0.27296464 -0.27296464 -0.27296464  0.27296464]\n",
      " [ 0.28867513  0.28867513  0.28867513  0.28867513  0.28867513  0.28867513\n",
      "   0.28867513  0.28867513  0.28867513  0.28867513  0.28867513  0.28867513]\n",
      " [ 0.28867513 -0.28867513  0.28867513 -0.28867513 -0.28867513  0.28867513\n",
      "  -0.28867513  0.28867513  0.28867513  0.28867513 -0.28867513 -0.28867513]\n",
      " [ 0.28867513 -0.28867513 -0.28867513  0.28867513 -0.28867513 -0.28867513\n",
      "   0.28867513 -0.28867513  0.28867513  0.28867513  0.28867513 -0.28867513]\n",
      " [ 0.28867513 -0.28867513 -0.28867513 -0.28867513  0.28867513 -0.28867513\n",
      "  -0.28867513  0.28867513 -0.28867513  0.28867513  0.28867513  0.28867513]\n",
      " [ 0.28867513  0.28867513 -0.28867513 -0.28867513 -0.28867513  0.28867513\n",
      "  -0.28867513 -0.28867513  0.28867513 -0.28867513  0.28867513  0.28867513]\n",
      " [ 0.28867513  0.28867513  0.28867513 -0.28867513 -0.28867513 -0.28867513\n",
      "   0.28867513 -0.28867513 -0.28867513  0.28867513 -0.28867513  0.28867513]\n",
      " [ 0.28867513  0.28867513  0.28867513  0.28867513 -0.28867513 -0.28867513\n",
      "  -0.28867513  0.28867513 -0.28867513 -0.28867513  0.28867513 -0.28867513]\n",
      " [ 0.28867513 -0.28867513  0.28867513  0.28867513  0.28867513 -0.28867513\n",
      "  -0.28867513 -0.28867513  0.28867513 -0.28867513 -0.28867513  0.28867513]\n",
      " [ 0.28867513  0.28867513 -0.28867513  0.28867513  0.28867513  0.28867513\n",
      "  -0.28867513 -0.28867513 -0.28867513  0.28867513 -0.28867513 -0.28867513]]\n",
      "[[ 0.34012135 -0.34012135]\n",
      " [ 0.70710678  0.70710678]]\n",
      "[[1.]]\n"
     ]
    },
    {
     "data": {
      "text/plain": [
       "0.3676943521632957"
      ]
     },
     "execution_count": 182,
     "metadata": {},
     "output_type": "execute_result"
    }
   ],
   "source": [
    "sig = 0.1\n",
    "h = 1\n",
    "\n",
    "S = eCASG.gen_sample_set(H, sig, h)\n",
    "loss_S(S, H, sig, h)"
   ]
  },
  {
   "cell_type": "code",
   "execution_count": 177,
   "id": "9c4d7a22",
   "metadata": {},
   "outputs": [
    {
     "name": "stdout",
     "output_type": "stream",
     "text": [
      "[[ 0.25583587  0.25583587 -0.25583587 -0.25583587  0.25583587 -0.25583587\n",
      "   0.25583587  0.25583587  0.25583587 -0.25583587 -0.25583587 -0.25583587]\n",
      " [ 0.25878387 -0.25878387  0.25878387 -0.25878387  0.25878387  0.25878387\n",
      "   0.25878387 -0.25878387 -0.25878387 -0.25878387  0.25878387 -0.25878387]\n",
      " [ 0.27296464 -0.27296464 -0.27296464  0.27296464 -0.27296464  0.27296464\n",
      "   0.27296464  0.27296464 -0.27296464 -0.27296464 -0.27296464  0.27296464]\n",
      " [ 0.28867513  0.28867513  0.28867513  0.28867513  0.28867513  0.28867513\n",
      "   0.28867513  0.28867513  0.28867513  0.28867513  0.28867513  0.28867513]\n",
      " [ 0.28867513 -0.28867513  0.28867513 -0.28867513 -0.28867513  0.28867513\n",
      "  -0.28867513  0.28867513  0.28867513  0.28867513 -0.28867513 -0.28867513]\n",
      " [ 0.28867513 -0.28867513 -0.28867513  0.28867513 -0.28867513 -0.28867513\n",
      "   0.28867513 -0.28867513  0.28867513  0.28867513  0.28867513 -0.28867513]\n",
      " [ 0.28867513 -0.28867513 -0.28867513 -0.28867513  0.28867513 -0.28867513\n",
      "  -0.28867513  0.28867513 -0.28867513  0.28867513  0.28867513  0.28867513]\n",
      " [ 0.28867513  0.28867513 -0.28867513 -0.28867513 -0.28867513  0.28867513\n",
      "  -0.28867513 -0.28867513  0.28867513 -0.28867513  0.28867513  0.28867513]\n",
      " [ 0.28867513  0.28867513  0.28867513 -0.28867513 -0.28867513 -0.28867513\n",
      "   0.28867513 -0.28867513 -0.28867513  0.28867513 -0.28867513  0.28867513]\n",
      " [ 0.28867513  0.28867513  0.28867513  0.28867513 -0.28867513 -0.28867513\n",
      "  -0.28867513  0.28867513 -0.28867513 -0.28867513  0.28867513 -0.28867513]\n",
      " [ 0.28867513 -0.28867513  0.28867513  0.28867513  0.28867513 -0.28867513\n",
      "  -0.28867513 -0.28867513  0.28867513 -0.28867513 -0.28867513  0.28867513]\n",
      " [ 0.28867513  0.28867513 -0.28867513  0.28867513  0.28867513  0.28867513\n",
      "  -0.28867513 -0.28867513 -0.28867513  0.28867513 -0.28867513 -0.28867513]]\n",
      "[[ 0.34012135 -0.34012135]\n",
      " [ 0.70710678  0.70710678]]\n",
      "[[1.]]\n"
     ]
    },
    {
     "data": {
      "text/plain": [
       "0.36769435216329577"
      ]
     },
     "execution_count": 177,
     "metadata": {},
     "output_type": "execute_result"
    }
   ],
   "source": [
    "sig = 0.1\n",
    "h = 1\n",
    "\n",
    "S = eCASG.old_gen_sample_set(H, sig, h)\n",
    "loss_S(S, H, sig, h)"
   ]
  },
  {
   "cell_type": "code",
   "execution_count": 150,
   "id": "c54f32a6",
   "metadata": {},
   "outputs": [
    {
     "data": {
      "text/plain": [
       "np.float64(2.3946047611189925)"
      ]
     },
     "execution_count": 150,
     "metadata": {},
     "output_type": "execute_result"
    }
   ],
   "source": [
    "D = np.linalg.eigh(H)[0]\n",
    "sing_vals = solve_sing_vals_exact(D, sig, h)\n",
    "\n",
    "lmbda_loss(sing_vals**2, D, sig)"
   ]
  },
  {
   "cell_type": "code",
   "execution_count": null,
   "id": "92646035",
   "metadata": {},
   "outputs": [],
   "source": []
  }
 ],
 "metadata": {
  "kernelspec": {
   "display_name": "grad_est",
   "language": "python",
   "name": "python3"
  },
  "language_info": {
   "codemirror_mode": {
    "name": "ipython",
    "version": 3
   },
   "file_extension": ".py",
   "mimetype": "text/x-python",
   "name": "python",
   "nbconvert_exporter": "python",
   "pygments_lexer": "ipython3",
   "version": "3.13.2"
  }
 },
 "nbformat": 4,
 "nbformat_minor": 5
}
